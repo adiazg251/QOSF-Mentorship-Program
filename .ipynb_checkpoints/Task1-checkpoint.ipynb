{
 "cells": [
  {
   "cell_type": "markdown",
   "id": "29031e55",
   "metadata": {},
   "source": [
    "# QOSF Mentorship Program - Task 1\n",
    "\n",
    "Design a quantum circuit that considers as input the following vector of integers numbers: \n",
    "\n",
    "[1,5,7,10]\n",
    "\n",
    "returns a quantum state which is a superposition of indices of the target solution, obtaining in the output the indices of the inputs where two adjacent bits will always have different values. In this case the output should be: \n",
    "\n",
    "1/sqrt(2) * (|01> + |11>) , as the correct indices are 1 and 3.\n"
   ]
  },
  {
   "cell_type": "code",
   "execution_count": 2,
   "id": "cf282565",
   "metadata": {},
   "outputs": [],
   "source": [
    "# Program Task 1\n",
    "# Created by: Andres Diaz\n",
    "# Date: 9/29/2021\n",
    "\n",
    "# Load packages and standard Qiskit libraries\n",
    "import numpy as np\n",
    "from qiskit import QuantumCircuit, Aer\n",
    "from qiskit.visualization import plot_bloch_multivector, plot_histogram\n",
    "from qiskit.utils import QuantumInstance\n",
    "from qiskit.algorithms import Grover, AmplificationProblem\n",
    "from qiskit.circuit.library import PhaseOracle\n",
    "\n",
    "from qiskit.visualization import circuit_drawer"
   ]
  },
  {
   "cell_type": "code",
   "execution_count": 3,
   "id": "3878ffd8",
   "metadata": {},
   "outputs": [
    {
     "name": "stdout",
     "output_type": "stream",
     "text": [
      "{'0001': '00', '0101': '01', '0111': '10', '1010': '11'}\n"
     ]
    }
   ],
   "source": [
    "# Problem input and creation of dictionary\n",
    "#     dictionary key   = input number in binary (four bits/qubits)\n",
    "#     dictionary value = indices in binary (two bits/qubits)\n",
    "input_list = [1,5,7,10]\n",
    "input_dict = {}\n",
    "for num in range(len(input_list)):\n",
    "    element_bin = format(input_list[num], '#06b')\n",
    "    integer_bin = format(num,'#04b')\n",
    "    input_dict[element_bin[-4:]] = integer_bin[-2:]\n",
    "print(input_dict)"
   ]
  },
  {
   "cell_type": "code",
   "execution_count": 4,
   "id": "4f60f828",
   "metadata": {},
   "outputs": [],
   "source": [
    "# These definitions are not necessary (or used), but will be useful in we desire to generalize the program\n",
    "# to accept random values of size 2^n with m bits in length\n",
    "n = 2   # n = number of addressing qbits\n",
    "m = 4   # m = number of bits in length for each memory element"
   ]
  },
  {
   "cell_type": "code",
   "execution_count": 5,
   "id": "457f7249",
   "metadata": {},
   "outputs": [
    {
     "data": {
      "text/html": [
       "<pre style=\"word-wrap: normal;white-space: pre;background: #fff0;line-height: 1.1;font-family: &quot;Courier New&quot;,Courier,monospace\">                 \n",
       "q_0: ─■──■─────■─\n",
       "      │  │     │ \n",
       "q_1: ─■──┼──■──■─\n",
       "      │  │  │  │ \n",
       "q_2: ─┼──■──o──o─\n",
       "      │  │  │    \n",
       "q_3: ─o──o──■────\n",
       "                 </pre>"
      ],
      "text/plain": [
       "                 \n",
       "q_0: ─■──■─────■─\n",
       "      │  │     │ \n",
       "q_1: ─■──┼──■──■─\n",
       "      │  │  │  │ \n",
       "q_2: ─┼──■──o──o─\n",
       "      │  │  │    \n",
       "q_3: ─o──o──■────\n",
       "                 "
      ]
     },
     "execution_count": 5,
     "metadata": {},
     "output_type": "execute_result"
    }
   ],
   "source": [
    "# Configure backend\n",
    "shots = 1024;\n",
    "backend = Aer.get_backend('aer_simulator')\n",
    "quantum_instance = QuantumInstance(backend, shots=shots)\n",
    "\n",
    "# Condition of two adjacents bits having different value is achieved \n",
    "# by AND operation between XOR of adjacent bits in binary representation \n",
    "expression = '(w ^ x) & (x ^ y) & (y ^ z)'\n",
    "\n",
    "# Create new oracle\n",
    "oracle = PhaseOracle(expression)\n",
    "problem = AmplificationProblem(oracle)\n",
    "oracle.draw()"
   ]
  },
  {
   "cell_type": "code",
   "execution_count": 14,
   "id": "3a4a205e",
   "metadata": {},
   "outputs": [
    {
     "data": {
      "image/png": "[encoded data removed]",
      "text/plain": [
       "<Figure size 504x360 with 1 Axes>"
      ]
     },
     "execution_count": 14,
     "metadata": {},
     "output_type": "execute_result"
    }
   ],
   "source": [
    "# Solve using Grover's algorithm\n",
    "# Since we know the number of solutions is always going to be 2, the optimal number of iterations can be calculated \n",
    "# or obtained using the method optimal_num_iterations. In this case it is equal to 2\n",
    "grover = Grover(iterations = 2, quantum_instance=quantum_instance)\n",
    "result = grover.amplify(problem)\n",
    "plot_histogram(result.circuit_results)"
   ]
  },
  {
   "cell_type": "code",
   "execution_count": 20,
   "id": "07f51028",
   "metadata": {},
   "outputs": [
    {
     "name": "stdout",
     "output_type": "stream",
     "text": [
      "{'0101': 509, '1001': 5, '1010': 471, '0100': 3, '1111': 2, '0010': 2, '0111': 5, '0000': 3, '0110': 5, '0011': 5, '1000': 2, '1110': 4, '1011': 4, '1101': 3, '0001': 1}\n"
     ]
    }
   ],
   "source": [
    "print(result.circuit_results[0])"
   ]
  },
  {
   "cell_type": "code",
   "execution_count": 21,
   "id": "131a8fa0",
   "metadata": {},
   "outputs": [
    {
     "name": "stdout",
     "output_type": "stream",
     "text": [
      "0001 00 0.0009765625\n",
      "0101 01 0.4970703125\n",
      "0111 10 0.0048828125\n",
      "1010 11 0.4599609375\n"
     ]
    }
   ],
   "source": [
    "# Determine probabilities corresponding to input elements\n",
    "# and assign to output dictionary with keys = indices in binary\n",
    "output_dict = {}\n",
    "for input_key in input_dict.keys():\n",
    "    print(input_key,input_dict[input_key],result.circuit_results[0][input_key]/shots)\n",
    "    output_dict[input_dict[input_key]] = result.circuit_results[0][input_key]/shots"
   ]
  },
  {
   "cell_type": "code",
   "execution_count": 22,
   "id": "47f00240",
   "metadata": {},
   "outputs": [
    {
     "name": "stdout",
     "output_type": "stream",
     "text": [
      "{'00': 0.0009765625, '01': 0.4970703125, '10': 0.0048828125, '11': 0.4599609375}\n"
     ]
    }
   ],
   "source": [
    "print(output_dict)"
   ]
  },
  {
   "cell_type": "code",
   "execution_count": 23,
   "id": "41491f3e",
   "metadata": {},
   "outputs": [
    {
     "name": "stdout",
     "output_type": "stream",
     "text": [
      "['01', '11']\n"
     ]
    }
   ],
   "source": [
    "# It is given that the input contains at least two numbers with alternating bitstrings\n",
    "# Hence, we look for the two highest probabilities. Only states are stored in output_list\n",
    "max1 = max(output_dict, key = output_dict.get)\n",
    "del output_dict[max1]\n",
    "max2 = max(output_dict, key = output_dict.get)\n",
    "output_list = [max1,max2]\n",
    "print(output_list)"
   ]
  },
  {
   "cell_type": "code",
   "execution_count": 24,
   "id": "2f0f0bf9",
   "metadata": {},
   "outputs": [
    {
     "name": "stdout",
     "output_type": "stream",
     "text": [
      "00 0\n",
      "01 0.7071067811865475\n",
      "10 0\n",
      "11 0.7071067811865475\n"
     ]
    },
    {
     "data": {
      "text/html": [
       "<pre style=\"word-wrap: normal;white-space: pre;background: #fff0;line-height: 1.1;font-family: &quot;Courier New&quot;,Courier,monospace\">     ┌──────────────────────────────────┐\n",
       "q_0: ┤0                                 ├\n",
       "     │  Initialize(0,0.70711,0,0.70711) │\n",
       "q_1: ┤1                                 ├\n",
       "     └──────────────────────────────────┘</pre>"
      ],
      "text/plain": [
       "     ┌──────────────────────────────────┐\n",
       "q_0: ┤0                                 ├\n",
       "     │  Initialize(0,0.70711,0,0.70711) │\n",
       "q_1: ┤1                                 ├\n",
       "     └──────────────────────────────────┘"
      ]
     },
     "execution_count": 24,
     "metadata": {},
     "output_type": "execute_result"
    }
   ],
   "source": [
    "# The output will be a quantum circuit which is the superposition of these two states\n",
    "# Prepare list of complex amplitudes of [00,01,10,11] states\n",
    "states = ['00','01','10','11']\n",
    "amplitudes = [0,0,0,0]\n",
    "for num in range(len(states)):\n",
    "    if states[num] in output_list:\n",
    "        amplitudes[num] = 1/np.sqrt(2)\n",
    "    else:\n",
    "        amplitudes[num] = 0    \n",
    "    print(states[num], amplitudes[num])\n",
    "    \n",
    "# Declare and initialize output quantum circuit qc_out with the desired superposition of states\n",
    "qc_out = QuantumCircuit(2)\n",
    "qc_out.initialize(amplitudes, [0,1])\n",
    "qc_out.draw()"
   ]
  },
  {
   "cell_type": "markdown",
   "id": "c48d3169",
   "metadata": {},
   "source": [
    "# Notes\n",
    "\n",
    "If the optimal number of iterations for Grover's algorithm is not used, the method  still work but the probabilities of the max states will be slightly lower (e.g. around 0.35).\n",
    "\n",
    "# Improvements and variations of this program\n",
    "## 1. Generalize for vectors of random values of size $2^{n}$\n",
    "\n",
    "The program can be easily adapted to accept random values of size $2^{n}$ with m bits in length, for fixed values of n and m. An example is given in the file Task1_variation1, where n is kept at 2, but I consider cells of 5 bits in length. With a bit more time (and not too much extra effort), this program can be generalized to have n and m as parameters that can be adjusted at will.\n",
    "\n",
    "## 2. Prepare input state as superposition of only the states defined by given vector\n",
    "As can be seen in the solution provided, the application of Grover's algorithm uses as input the equal superposition of all possible $2^{m}$ states. A further optimization to consider is to prepare the input state as the equal superposition of just the states defined by the input vector. In a real case, this should considerably improve the stability and reduce the noise in the system, since less states are considered. For the given input vector, this approach would consist of the state:\n",
    "       1/2(|0001> + |0101> + |0111> + |1010>)\n",
    "This approach is implemented in file Task1_variation2\n",
    "\n",
    "## 3. Define the oracle so that it only operates on states defined by the input vector\n",
    "Another approach is to define the oracle so that it only operates on states |0001>, |0101>, |0111>, and |1010>, returning zero when operating on all other states. As with the previous approach, this should also results in less noise and a more stable program. This approach was not implemented.\n",
    "\n",
    "## 4. Use bucket-brigade approach\n",
    "The final approach is to use the bucket-brigrade approach (as explained in https://github.com/qsharp-community/qram/blob/master/docs/primer.pdf). Below I implemented the circuit that performs the query |i> -> $(-1)^{mi}$|i> when n=2 given the input vector [1,5,7,10]. "
   ]
  },
  {
   "cell_type": "code",
   "execution_count": 28,
   "id": "c50d5be2",
   "metadata": {},
   "outputs": [
    {
     "data": {
      "text/html": [
       "<pre style=\"word-wrap: normal;white-space: pre;background: #fff0;line-height: 1.1;font-family: &quot;Courier New&quot;,Courier,monospace\">                                                                            »\n",
       " q_0: ─────────────────■────────────────────────────────────────────────────»\n",
       "                       │                                                    »\n",
       " q_1: ───────■─────────┼────■───────────────────────────────────────────────»\n",
       "      ┌───┐  │  ┌───┐  │    │  ┌───┐                                        »\n",
       " q_2: ┤ X ├──┼──┤ X ├──■────┼──┤ X ├───────■────■─────────■──────────────■──»\n",
       "      └───┘┌─┴─┐└─┬─┘  │    │  └─┬─┘┌───┐  │    │         │              │  »\n",
       " q_3: ─────┤ X ├──■────┼────■────┼──┤ X ├──┼────┼────■────┼────■─────────┼──»\n",
       "           └───┘     ┌─┴─┐  │    │  └─┬─┘  │    │    │    │    │         │  »\n",
       " q_4: ───────────────┤ X ├──┼────■────┼────┼────┼────┼────┼────┼────■────┼──»\n",
       "                     └───┘┌─┴─┐       │    │    │    │    │    │    │    │  »\n",
       " q_5: ────────────────────┤ X ├───────■────┼────┼────┼────┼────┼────┼────┼──»\n",
       "      ┌───┐               └───┘            │    │    │    │    │    │    │  »\n",
       " q_6: ┤ X ├────────────────────────────────■────┼────┼────┼────┼────┼────┼──»\n",
       "      └───┘                                │    │    │    │    │    │    │  »\n",
       " q_7: ─────────────────────────────────────┼────■────┼────┼────┼────┼────┼──»\n",
       "                                           │    │    │    │    │    │    │  »\n",
       " q_8: ─────────────────────────────────────┼────┼────┼────■────┼────┼────┼──»\n",
       "                                           │    │    │    │    │    │    │  »\n",
       " q_9: ─────────────────────────────────────┼────┼────┼────┼────┼────┼────■──»\n",
       "      ┌───┐                                │    │    │    │    │    │    │  »\n",
       "q_10: ┤ X ├────────────────────────────────┼────┼────■────┼────┼────┼────┼──»\n",
       "      └───┘                                │    │    │    │    │    │    │  »\n",
       "q_11: ─────────────────────────────────────┼────┼────┼────┼────■────┼────┼──»\n",
       "      ┌───┐                                │    │    │    │    │    │    │  »\n",
       "q_12: ┤ X ├────────────────────────────────┼────┼────┼────┼────┼────┼────┼──»\n",
       "      └───┘                                │    │    │    │    │    │    │  »\n",
       "q_13: ─────────────────────────────────────┼────┼────┼────┼────┼────┼────┼──»\n",
       "      ┌───┐                                │    │    │    │    │    │    │  »\n",
       "q_14: ┤ X ├────────────────────────────────┼────┼────┼────┼────┼────■────┼──»\n",
       "      ├───┤                                │    │    │    │    │    │    │  »\n",
       "q_15: ┤ X ├────────────────────────────────┼────┼────┼────┼────┼────┼────┼──»\n",
       "      ├───┤                                │    │    │    │    │    │    │  »\n",
       "q_16: ┤ X ├────────────────────────────────┼────┼────┼────┼────┼────┼────┼──»\n",
       "      └───┘                                │    │    │    │    │    │    │  »\n",
       "q_17: ─────────────────────────────────────┼────┼────┼────┼────┼────┼────┼──»\n",
       "                                           │    │    │    │    │    │    │  »\n",
       "q_18: ─────────────────────────────────────┼────┼────┼────┼────┼────┼────┼──»\n",
       "      ┌───┐                                │    │    │    │    │    │    │  »\n",
       "q_19: ┤ X ├────────────────────────────────┼────┼────┼────┼────┼────┼────┼──»\n",
       "      └───┘                                │    │    │    │    │    │    │  »\n",
       "q_20: ─────────────────────────────────────┼────┼────┼────┼────┼────┼────┼──»\n",
       "      ┌───┐                                │    │    │    │    │    │    │  »\n",
       "q_21: ┤ X ├────────────────────────────────┼────┼────┼────┼────┼────┼────┼──»\n",
       "      ├───┤                              ┌─┴─┐  │  ┌─┴─┐  │    │  ┌─┴─┐  │  »\n",
       "q_22: ┤ X ├──────────────────────────────┤ X ├──┼──┤ X ├──┼────┼──┤ X ├──┼──»\n",
       "      ├───┤                              └───┘┌─┴─┐└───┘  │  ┌─┴─┐└───┘  │  »\n",
       "q_23: ┤ X ├───────────────────────────────────┤ X ├───────┼──┤ X ├───────┼──»\n",
       "      ├───┤                                   └───┘     ┌─┴─┐└───┘       │  »\n",
       "q_24: ┤ X ├─────────────────────────────────────────────┤ X ├────────────┼──»\n",
       "      ├───┤                                             └───┘          ┌─┴─┐»\n",
       "q_25: ┤ X ├────────────────────────────────────────────────────────────┤ X ├»\n",
       "      └───┘                                                            └───┘»\n",
       "«                                                   \n",
       "« q_0: ─────────────────────────────────────────────\n",
       "«                                                   \n",
       "« q_1: ─────────────────────────────────────────────\n",
       "«                                                   \n",
       "« q_2: ─────────────────────────────────────────────\n",
       "«                                                   \n",
       "« q_3: ──■──────────────■───────────────────────────\n",
       "«        │              │                           \n",
       "« q_4: ──┼────■─────────┼────■─────────■────────────\n",
       "«        │    │         │    │         │            \n",
       "« q_5: ──┼────┼────■────┼────┼────■────┼────■────■──\n",
       "«        │    │    │    │    │    │    │    │    │  \n",
       "« q_6: ──┼────┼────┼────┼────┼────┼────┼────┼────┼──\n",
       "«        │    │    │    │    │    │    │    │    │  \n",
       "« q_7: ──┼────┼────┼────┼────┼────┼────┼────┼────┼──\n",
       "«        │    │    │    │    │    │    │    │    │  \n",
       "« q_8: ──┼────┼────┼────┼────┼────┼────┼────┼────┼──\n",
       "«        │    │    │    │    │    │    │    │    │  \n",
       "« q_9: ──┼────┼────┼────┼────┼────┼────┼────┼────┼──\n",
       "«        │    │    │    │    │    │    │    │    │  \n",
       "«q_10: ──┼────┼────┼────┼────┼────┼────┼────┼────┼──\n",
       "«        │    │    │    │    │    │    │    │    │  \n",
       "«q_11: ──┼────┼────┼────┼────┼────┼────┼────┼────┼──\n",
       "«        │    │    │    │    │    │    │    │    │  \n",
       "«q_12: ──■────┼────┼────┼────┼────┼────┼────┼────┼──\n",
       "«        │    │    │    │    │    │    │    │    │  \n",
       "«q_13: ──┼────┼────┼────■────┼────┼────┼────┼────┼──\n",
       "«        │    │    │    │    │    │    │    │    │  \n",
       "«q_14: ──┼────┼────┼────┼────┼────┼────┼────┼────┼──\n",
       "«        │    │    │    │    │    │    │    │    │  \n",
       "«q_15: ──┼────■────┼────┼────┼────┼────┼────┼────┼──\n",
       "«        │    │    │    │    │    │    │    │    │  \n",
       "«q_16: ──┼────┼────┼────┼────■────┼────┼────┼────┼──\n",
       "«        │    │    │    │    │    │    │    │    │  \n",
       "«q_17: ──┼────┼────┼────┼────┼────┼────■────┼────┼──\n",
       "«        │    │    │    │    │    │    │    │    │  \n",
       "«q_18: ──┼────┼────■────┼────┼────┼────┼────┼────┼──\n",
       "«        │    │    │    │    │    │    │    │    │  \n",
       "«q_19: ──┼────┼────┼────┼────┼────■────┼────┼────┼──\n",
       "«        │    │    │    │    │    │    │    │    │  \n",
       "«q_20: ──┼────┼────┼────┼────┼────┼────┼────■────┼──\n",
       "«        │    │    │    │    │    │    │    │    │  \n",
       "«q_21: ──┼────┼────┼────┼────┼────┼────┼────┼────■──\n",
       "«        │    │  ┌─┴─┐  │    │    │    │    │    │  \n",
       "«q_22: ──┼────┼──┤ X ├──┼────┼────┼────┼────┼────┼──\n",
       "«        │  ┌─┴─┐└───┘  │    │  ┌─┴─┐  │    │    │  \n",
       "«q_23: ──┼──┤ X ├───────┼────┼──┤ X ├──┼────┼────┼──\n",
       "«      ┌─┴─┐└───┘       │  ┌─┴─┐└───┘  │  ┌─┴─┐  │  \n",
       "«q_24: ┤ X ├────────────┼──┤ X ├───────┼──┤ X ├──┼──\n",
       "«      └───┘          ┌─┴─┐└───┘     ┌─┴─┐└───┘┌─┴─┐\n",
       "«q_25: ───────────────┤ X ├──────────┤ X ├─────┤ X ├\n",
       "«                     └───┘          └───┘     └───┘</pre>"
      ],
      "text/plain": [
       "                                                                            »\n",
       " q_0: ─────────────────■────────────────────────────────────────────────────»\n",
       "                       │                                                    »\n",
       " q_1: ───────■─────────┼────■───────────────────────────────────────────────»\n",
       "      ┌───┐  │  ┌───┐  │    │  ┌───┐                                        »\n",
       " q_2: ┤ X ├──┼──┤ X ├──■────┼──┤ X ├───────■────■─────────■──────────────■──»\n",
       "      └───┘┌─┴─┐└─┬─┘  │    │  └─┬─┘┌───┐  │    │         │              │  »\n",
       " q_3: ─────┤ X ├──■────┼────■────┼──┤ X ├──┼────┼────■────┼────■─────────┼──»\n",
       "           └───┘     ┌─┴─┐  │    │  └─┬─┘  │    │    │    │    │         │  »\n",
       " q_4: ───────────────┤ X ├──┼────■────┼────┼────┼────┼────┼────┼────■────┼──»\n",
       "                     └───┘┌─┴─┐       │    │    │    │    │    │    │    │  »\n",
       " q_5: ────────────────────┤ X ├───────■────┼────┼────┼────┼────┼────┼────┼──»\n",
       "      ┌───┐               └───┘            │    │    │    │    │    │    │  »\n",
       " q_6: ┤ X ├────────────────────────────────■────┼────┼────┼────┼────┼────┼──»\n",
       "      └───┘                                │    │    │    │    │    │    │  »\n",
       " q_7: ─────────────────────────────────────┼────■────┼────┼────┼────┼────┼──»\n",
       "                                           │    │    │    │    │    │    │  »\n",
       " q_8: ─────────────────────────────────────┼────┼────┼────■────┼────┼────┼──»\n",
       "                                           │    │    │    │    │    │    │  »\n",
       " q_9: ─────────────────────────────────────┼────┼────┼────┼────┼────┼────■──»\n",
       "      ┌───┐                                │    │    │    │    │    │    │  »\n",
       "q_10: ┤ X ├────────────────────────────────┼────┼────■────┼────┼────┼────┼──»\n",
       "      └───┘                                │    │    │    │    │    │    │  »\n",
       "q_11: ─────────────────────────────────────┼────┼────┼────┼────■────┼────┼──»\n",
       "      ┌───┐                                │    │    │    │    │    │    │  »\n",
       "q_12: ┤ X ├────────────────────────────────┼────┼────┼────┼────┼────┼────┼──»\n",
       "      └───┘                                │    │    │    │    │    │    │  »\n",
       "q_13: ─────────────────────────────────────┼────┼────┼────┼────┼────┼────┼──»\n",
       "      ┌───┐                                │    │    │    │    │    │    │  »\n",
       "q_14: ┤ X ├────────────────────────────────┼────┼────┼────┼────┼────■────┼──»\n",
       "      ├───┤                                │    │    │    │    │    │    │  »\n",
       "q_15: ┤ X ├────────────────────────────────┼────┼────┼────┼────┼────┼────┼──»\n",
       "      ├───┤                                │    │    │    │    │    │    │  »\n",
       "q_16: ┤ X ├────────────────────────────────┼────┼────┼────┼────┼────┼────┼──»\n",
       "      └───┘                                │    │    │    │    │    │    │  »\n",
       "q_17: ─────────────────────────────────────┼────┼────┼────┼────┼────┼────┼──»\n",
       "                                           │    │    │    │    │    │    │  »\n",
       "q_18: ─────────────────────────────────────┼────┼────┼────┼────┼────┼────┼──»\n",
       "      ┌───┐                                │    │    │    │    │    │    │  »\n",
       "q_19: ┤ X ├────────────────────────────────┼────┼────┼────┼────┼────┼────┼──»\n",
       "      └───┘                                │    │    │    │    │    │    │  »\n",
       "q_20: ─────────────────────────────────────┼────┼────┼────┼────┼────┼────┼──»\n",
       "      ┌───┐                                │    │    │    │    │    │    │  »\n",
       "q_21: ┤ X ├────────────────────────────────┼────┼────┼────┼────┼────┼────┼──»\n",
       "      ├───┤                              ┌─┴─┐  │  ┌─┴─┐  │    │  ┌─┴─┐  │  »\n",
       "q_22: ┤ X ├──────────────────────────────┤ X ├──┼──┤ X ├──┼────┼──┤ X ├──┼──»\n",
       "      ├───┤                              └───┘┌─┴─┐└───┘  │  ┌─┴─┐└───┘  │  »\n",
       "q_23: ┤ X ├───────────────────────────────────┤ X ├───────┼──┤ X ├───────┼──»\n",
       "      ├───┤                                   └───┘     ┌─┴─┐└───┘       │  »\n",
       "q_24: ┤ X ├─────────────────────────────────────────────┤ X ├────────────┼──»\n",
       "      ├───┤                                             └───┘          ┌─┴─┐»\n",
       "q_25: ┤ X ├────────────────────────────────────────────────────────────┤ X ├»\n",
       "      └───┘                                                            └───┘»\n",
       "«                                                   \n",
       "« q_0: ─────────────────────────────────────────────\n",
       "«                                                   \n",
       "« q_1: ─────────────────────────────────────────────\n",
       "«                                                   \n",
       "« q_2: ─────────────────────────────────────────────\n",
       "«                                                   \n",
       "« q_3: ──■──────────────■───────────────────────────\n",
       "«        │              │                           \n",
       "« q_4: ──┼────■─────────┼────■─────────■────────────\n",
       "«        │    │         │    │         │            \n",
       "« q_5: ──┼────┼────■────┼────┼────■────┼────■────■──\n",
       "«        │    │    │    │    │    │    │    │    │  \n",
       "« q_6: ──┼────┼────┼────┼────┼────┼────┼────┼────┼──\n",
       "«        │    │    │    │    │    │    │    │    │  \n",
       "« q_7: ──┼────┼────┼────┼────┼────┼────┼────┼────┼──\n",
       "«        │    │    │    │    │    │    │    │    │  \n",
       "« q_8: ──┼────┼────┼────┼────┼────┼────┼────┼────┼──\n",
       "«        │    │    │    │    │    │    │    │    │  \n",
       "« q_9: ──┼────┼────┼────┼────┼────┼────┼────┼────┼──\n",
       "«        │    │    │    │    │    │    │    │    │  \n",
       "«q_10: ──┼────┼────┼────┼────┼────┼────┼────┼────┼──\n",
       "«        │    │    │    │    │    │    │    │    │  \n",
       "«q_11: ──┼────┼────┼────┼────┼────┼────┼────┼────┼──\n",
       "«        │    │    │    │    │    │    │    │    │  \n",
       "«q_12: ──■────┼────┼────┼────┼────┼────┼────┼────┼──\n",
       "«        │    │    │    │    │    │    │    │    │  \n",
       "«q_13: ──┼────┼────┼────■────┼────┼────┼────┼────┼──\n",
       "«        │    │    │    │    │    │    │    │    │  \n",
       "«q_14: ──┼────┼────┼────┼────┼────┼────┼────┼────┼──\n",
       "«        │    │    │    │    │    │    │    │    │  \n",
       "«q_15: ──┼────■────┼────┼────┼────┼────┼────┼────┼──\n",
       "«        │    │    │    │    │    │    │    │    │  \n",
       "«q_16: ──┼────┼────┼────┼────■────┼────┼────┼────┼──\n",
       "«        │    │    │    │    │    │    │    │    │  \n",
       "«q_17: ──┼────┼────┼────┼────┼────┼────■────┼────┼──\n",
       "«        │    │    │    │    │    │    │    │    │  \n",
       "«q_18: ──┼────┼────■────┼────┼────┼────┼────┼────┼──\n",
       "«        │    │    │    │    │    │    │    │    │  \n",
       "«q_19: ──┼────┼────┼────┼────┼────■────┼────┼────┼──\n",
       "«        │    │    │    │    │    │    │    │    │  \n",
       "«q_20: ──┼────┼────┼────┼────┼────┼────┼────■────┼──\n",
       "«        │    │    │    │    │    │    │    │    │  \n",
       "«q_21: ──┼────┼────┼────┼────┼────┼────┼────┼────■──\n",
       "«        │    │  ┌─┴─┐  │    │    │    │    │    │  \n",
       "«q_22: ──┼────┼──┤ X ├──┼────┼────┼────┼────┼────┼──\n",
       "«        │  ┌─┴─┐└───┘  │    │  ┌─┴─┐  │    │    │  \n",
       "«q_23: ──┼──┤ X ├───────┼────┼──┤ X ├──┼────┼────┼──\n",
       "«      ┌─┴─┐└───┘       │  ┌─┴─┐└───┘  │  ┌─┴─┐  │  \n",
       "«q_24: ┤ X ├────────────┼──┤ X ├───────┼──┤ X ├──┼──\n",
       "«      └───┘          ┌─┴─┐└───┘     ┌─┴─┐└───┘┌─┴─┐\n",
       "«q_25: ───────────────┤ X ├──────────┤ X ├─────┤ X ├\n",
       "«                     └───┘          └───┘     └───┘"
      ]
     },
     "execution_count": 28,
     "metadata": {},
     "output_type": "execute_result"
    }
   ],
   "source": [
    "from qiskit import QuantumRegister, ClassicalRegister, QuantumCircuit\n",
    "from numpy import pi\n",
    "qreg_q = QuantumRegister(26, 'q')\n",
    "circuit = QuantumCircuit(qreg_q) \n",
    "# Address register  : bits 0-1\n",
    "# Auxiliary register: bits 2-5\n",
    "# Memory register   : bits 6-9 for |0001>, 10-13 for |0101>, 14-17 for |0111>, and 18-21 for |1010> (all initialized)\n",
    "# Output register   : bits 22-25 (initialized to |1>)\n",
    "circuit.x(qreg_q[2])\n",
    "circuit.x(qreg_q[6])\n",
    "circuit.x(qreg_q[10])\n",
    "circuit.x(qreg_q[12])\n",
    "circuit.x(qreg_q[14])\n",
    "circuit.x(qreg_q[15])\n",
    "circuit.x(qreg_q[16])\n",
    "circuit.x(qreg_q[19])\n",
    "circuit.x(qreg_q[21])\n",
    "circuit.x(qreg_q[22])\n",
    "circuit.x(qreg_q[23])\n",
    "circuit.x(qreg_q[24])\n",
    "circuit.x(qreg_q[25])\n",
    "circuit.cx(qreg_q[1], qreg_q[3])\n",
    "circuit.cx(qreg_q[3], qreg_q[2])\n",
    "circuit.ccx(qreg_q[0], qreg_q[2], qreg_q[4])\n",
    "circuit.ccx(qreg_q[1], qreg_q[3], qreg_q[5])\n",
    "circuit.cx(qreg_q[4], qreg_q[2])\n",
    "circuit.cx(qreg_q[5], qreg_q[3])\n",
    "circuit.ccx(qreg_q[2], qreg_q[6], qreg_q[22])\n",
    "circuit.ccx(qreg_q[2], qreg_q[7], qreg_q[23])\n",
    "circuit.ccx(qreg_q[2], qreg_q[8], qreg_q[24])\n",
    "circuit.ccx(qreg_q[2], qreg_q[9], qreg_q[25])\n",
    "circuit.ccx(qreg_q[3], qreg_q[10], qreg_q[22])\n",
    "circuit.ccx(qreg_q[3], qreg_q[11], qreg_q[23])\n",
    "circuit.ccx(qreg_q[3], qreg_q[12], qreg_q[24])\n",
    "circuit.ccx(qreg_q[3], qreg_q[13], qreg_q[25])\n",
    "circuit.ccx(qreg_q[4], qreg_q[14], qreg_q[22])\n",
    "circuit.ccx(qreg_q[4], qreg_q[15], qreg_q[23])\n",
    "circuit.ccx(qreg_q[4], qreg_q[16], qreg_q[24])\n",
    "circuit.ccx(qreg_q[4], qreg_q[17], qreg_q[25])\n",
    "circuit.ccx(qreg_q[5], qreg_q[18], qreg_q[22])\n",
    "circuit.ccx(qreg_q[5], qreg_q[19], qreg_q[23])\n",
    "circuit.ccx(qreg_q[5], qreg_q[20], qreg_q[24])\n",
    "circuit.ccx(qreg_q[5], qreg_q[21], qreg_q[25])\n",
    "circuit.draw()"
   ]
  },
  {
   "cell_type": "code",
   "execution_count": null,
   "id": "b9163687",
   "metadata": {},
   "outputs": [],
   "source": []
  }
 ],
 "metadata": {
  "kernelspec": {
   "display_name": "Python 3",
   "language": "python",
   "name": "python3"
  },
  "language_info": {
   "codemirror_mode": {
    "name": "ipython",
    "version": 3
   },
   "file_extension": ".py",
   "mimetype": "text/x-python",
   "name": "python",
   "nbconvert_exporter": "python",
   "pygments_lexer": "ipython3",
   "version": "3.8.8"
  }
 },
 "nbformat": 4,
 "nbformat_minor": 5
}
