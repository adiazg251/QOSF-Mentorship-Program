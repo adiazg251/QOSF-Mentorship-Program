{
 "cells": [
  {
   "cell_type": "markdown",
   "id": "29031e55",
   "metadata": {},
   "source": [
    "# QOSF Mentorship Program - Task 1\n",
    "\n",
    "Design a quantum circuit that considers as input the following vector of integers numbers: \n",
    "\n",
    "[1,5,7,10]\n",
    "\n",
    "returns a quantum state which is a superposition of indices of the target solution, obtaining in the output the indices of the inputs where two adjacent bits will always have different values. In this case the output should be: \n",
    "\n",
    "1/sqrt(2) * (|01> + |11>) , as the correct indices are 1 and 3.\n"
   ]
  },
  {
   "cell_type": "code",
   "execution_count": 106,
   "id": "cf282565",
   "metadata": {},
   "outputs": [],
   "source": [
    "# Program Task 1\n",
    "# Created by: Andres Diaz\n",
    "# Date: 9/29/2021\n",
    "\n",
    "# Load packages and standard Qiskit libraries\n",
    "import numpy as np\n",
    "from qiskit import QuantumCircuit, Aer\n",
    "from qiskit.visualization import plot_bloch_multivector, plot_histogram\n",
    "from qiskit.utils import QuantumInstance\n",
    "from qiskit.algorithms import Grover, AmplificationProblem\n",
    "from qiskit.circuit.library import PhaseOracle\n",
    "\n",
    "from qiskit.visualization import circuit_drawer"
   ]
  },
  {
   "cell_type": "code",
   "execution_count": 107,
   "id": "0a1eca4d",
   "metadata": {},
   "outputs": [
    {
     "name": "stdout",
     "output_type": "stream",
     "text": [
      "{'0001': '00', '0101': '01', '0111': '10', '1010': '11'}\n"
     ]
    }
   ],
   "source": [
    "# Problem input and creation of dictionary\n",
    "#     dictionary key   = input number in binary (four bits/qubits)\n",
    "#     dictionary value = indices in binary (two bits/qubits)\n",
    "input_list = [1,5,7,10]\n",
    "input_dict = {}\n",
    "for num in range(len(input_list)):\n",
    "    element_bin = format(input_list[num], '#06b')\n",
    "    integer_bin = format(num,'#04b')\n",
    "    input_dict[element_bin[-4:]] = integer_bin[-2:]\n",
    "print(input_dict)"
   ]
  },
  {
   "cell_type": "code",
   "execution_count": 108,
   "id": "7f81f540",
   "metadata": {},
   "outputs": [],
   "source": [
    "n = 2   # n = number of addressing qbits\n",
    "m = 4   # m = number of bits in length for each memory element"
   ]
  },
  {
   "cell_type": "code",
   "execution_count": 109,
   "id": "457f7249",
   "metadata": {},
   "outputs": [
    {
     "data": {
      "text/html": [
       "<pre style=\"word-wrap: normal;white-space: pre;background: #fff0;line-height: 1.1;font-family: &quot;Courier New&quot;,Courier,monospace\">                 \n",
       "q_0: ─■──■─────■─\n",
       "      │  │     │ \n",
       "q_1: ─■──┼──■──■─\n",
       "      │  │  │  │ \n",
       "q_2: ─┼──■──o──o─\n",
       "      │  │  │    \n",
       "q_3: ─o──o──■────\n",
       "                 </pre>"
      ],
      "text/plain": [
       "                 \n",
       "q_0: ─■──■─────■─\n",
       "      │  │     │ \n",
       "q_1: ─■──┼──■──■─\n",
       "      │  │  │  │ \n",
       "q_2: ─┼──■──o──o─\n",
       "      │  │  │    \n",
       "q_3: ─o──o──■────\n",
       "                 "
      ]
     },
     "execution_count": 109,
     "metadata": {},
     "output_type": "execute_result"
    }
   ],
   "source": [
    "# Configure backend\n",
    "shots = 1024;\n",
    "backend = Aer.get_backend('aer_simulator')\n",
    "quantum_instance = QuantumInstance(backend, shots=shots)\n",
    "\n",
    "# Condition of two adjacents bits having different value is achieved \n",
    "# by AND operation between XOR of adjacent bits in binary representation \n",
    "expression = '(w ^ x) & (x ^ y) & (y ^ z)'\n",
    "\n",
    "# Create new oracle\n",
    "oracle = PhaseOracle(expression)\n",
    "problem = AmplificationProblem(oracle)\n",
    "oracle.draw()"
   ]
  },
  {
   "cell_type": "code",
   "execution_count": 110,
   "id": "79c7278f",
   "metadata": {},
   "outputs": [
    {
     "data": {
      "image/png": "[encoded data removed]",
      "text/plain": [
       "<Figure size 504x360 with 1 Axes>"
      ]
     },
     "execution_count": 110,
     "metadata": {},
     "output_type": "execute_result"
    }
   ],
   "source": [
    "#Solve using Grover's algorithm\n",
    "grover = Grover(quantum_instance=quantum_instance)\n",
    "result = grover.amplify(problem)\n",
    "plot_histogram(result.circuit_results)"
   ]
  },
  {
   "cell_type": "code",
   "execution_count": 111,
   "id": "07f51028",
   "metadata": {},
   "outputs": [
    {
     "name": "stdout",
     "output_type": "stream",
     "text": [
      "{'0001': 18, '1010': 410, '1110': 21, '0101': 412, '1111': 17, '0000': 16, '0011': 10, '1101': 16, '0110': 13, '1011': 13, '0010': 10, '0111': 13, '0100': 19, '1001': 11, '1000': 15, '1100': 10}\n"
     ]
    }
   ],
   "source": [
    "print(result.circuit_results[0])"
   ]
  },
  {
   "cell_type": "code",
   "execution_count": 114,
   "id": "f57d91d4",
   "metadata": {},
   "outputs": [
    {
     "name": "stdout",
     "output_type": "stream",
     "text": [
      "0001 00 0.017578125\n",
      "0101 01 0.40234375\n",
      "0111 10 0.0126953125\n",
      "1010 11 0.400390625\n"
     ]
    }
   ],
   "source": [
    "# Determine probabilities corresponding to input elements\n",
    "# and assign to output dictionary with keys = indices in binary\n",
    "output_dict = {}\n",
    "for input_key in input_dict.keys():\n",
    "    print(input_key,input_dict[input_key],result.circuit_results[0][input_key]/shots)\n",
    "    output_dict[input_dict[input_key]] = result.circuit_results[0][input_key]/shots"
   ]
  },
  {
   "cell_type": "code",
   "execution_count": 115,
   "id": "976f8d54",
   "metadata": {},
   "outputs": [
    {
     "name": "stdout",
     "output_type": "stream",
     "text": [
      "{'00': 0.017578125, '01': 0.40234375, '10': 0.0126953125, '11': 0.400390625}\n"
     ]
    }
   ],
   "source": [
    "print(output_dict)"
   ]
  },
  {
   "cell_type": "code",
   "execution_count": null,
   "id": "e4a50d49",
   "metadata": {},
   "outputs": [],
   "source": [
    "# It is given that the input contains at least two numbers with alternating bitstrings\n",
    "# Hence, we look for the two highest probabilities. Only states are stored in output_list\n",
    "output_list = max\n"
   ]
  },
  {
   "cell_type": "code",
   "execution_count": 26,
   "id": "acdfc5b2",
   "metadata": {},
   "outputs": [
    {
     "data": {
      "text/html": [
       "<pre style=\"word-wrap: normal;white-space: pre;background: #fff0;line-height: 1.1;font-family: &quot;Courier New&quot;,Courier,monospace\">     ┌───┐     \n",
       "q_0: ┤ H ├──■──\n",
       "     ├───┤┌─┴─┐\n",
       "q_1: ┤ X ├┤ X ├\n",
       "     └───┘└───┘\n",
       "c: 2/══════════\n",
       "               </pre>"
      ],
      "text/plain": [
       "     ┌───┐     \n",
       "q_0: ┤ H ├──■──\n",
       "     ├───┤┌─┴─┐\n",
       "q_1: ┤ X ├┤ X ├\n",
       "     └───┘└───┘\n",
       "c: 2/══════════\n",
       "               "
      ]
     },
     "execution_count": 26,
     "metadata": {},
     "output_type": "execute_result"
    }
   ],
   "source": [
    "qc = QuantumCircuit(2,2) # this time, we not only want two qubits, but also two classical bits for the measurement\n",
    "qc.x(1) #flip bit B\n",
    "qc.h(0) #H on bit A\n",
    "qc.cx(0,1) #CNOT with control qubit A and target qubit B\n",
    "qc.draw() # we draw the circuit"
   ]
  },
  {
   "cell_type": "code",
   "execution_count": 28,
   "id": "f2b8c56a",
   "metadata": {},
   "outputs": [
    {
     "data": {
      "text/html": [
       "<pre style=\"word-wrap: normal;white-space: pre;background: #fff0;line-height: 1.1;font-family: &quot;Courier New&quot;,Courier,monospace\">     ┌───┐┌────┐┌────┐┌────┐┌────┐\n",
       "q_0: ┤ H ├┤0   ├┤0   ├┤0   ├┤0   ├\n",
       "     ├───┤│    ││    ││    ││    │\n",
       "q_1: ┤ H ├┤1   ├┤1   ├┤1   ├┤1   ├\n",
       "     ├───┤│  Q ││  Q ││  Q ││  Q │\n",
       "q_2: ┤ H ├┤2   ├┤2   ├┤2   ├┤2   ├\n",
       "     ├───┤│    ││    ││    ││    │\n",
       "q_3: ┤ H ├┤3   ├┤3   ├┤3   ├┤3   ├\n",
       "     └───┘└────┘└────┘└────┘└────┘</pre>"
      ],
      "text/plain": [
       "     ┌───┐┌────┐┌────┐┌────┐┌────┐\n",
       "q_0: ┤ H ├┤0   ├┤0   ├┤0   ├┤0   ├\n",
       "     ├───┤│    ││    ││    ││    │\n",
       "q_1: ┤ H ├┤1   ├┤1   ├┤1   ├┤1   ├\n",
       "     ├───┤│  Q ││  Q ││  Q ││  Q │\n",
       "q_2: ┤ H ├┤2   ├┤2   ├┤2   ├┤2   ├\n",
       "     ├───┤│    ││    ││    ││    │\n",
       "q_3: ┤ H ├┤3   ├┤3   ├┤3   ├┤3   ├\n",
       "     └───┘└────┘└────┘└────┘└────┘"
      ]
     },
     "execution_count": 28,
     "metadata": {},
     "output_type": "execute_result"
    }
   ],
   "source": [
    "power = 4\n",
    "grover.construct_circuit(problem, power).draw()"
   ]
  },
  {
   "cell_type": "code",
   "execution_count": 33,
   "id": "ff45f19d",
   "metadata": {},
   "outputs": [
    {
     "ename": "SyntaxError",
     "evalue": "invalid syntax (<ipython-input-33-d5520aaf7830>, line 1)",
     "output_type": "error",
     "traceback": [
      "\u001b[1;36m  File \u001b[1;32m\"<ipython-input-33-d5520aaf7830>\"\u001b[1;36m, line \u001b[1;32m1\u001b[0m\n\u001b[1;33m    help bin()\u001b[0m\n\u001b[1;37m         ^\u001b[0m\n\u001b[1;31mSyntaxError\u001b[0m\u001b[1;31m:\u001b[0m invalid syntax\n"
     ]
    }
   ],
   "source": [
    "help bin()"
   ]
  },
  {
   "cell_type": "code",
   "execution_count": 41,
   "id": "1d3bf44f",
   "metadata": {},
   "outputs": [
    {
     "ename": "NameError",
     "evalue": "name 'sin' is not defined",
     "output_type": "error",
     "traceback": [
      "\u001b[1;31m---------------------------------------------------------------------------\u001b[0m",
      "\u001b[1;31mNameError\u001b[0m                                 Traceback (most recent call last)",
      "\u001b[1;32m<ipython-input-41-25560f9ce61b>\u001b[0m in \u001b[0;36m<module>\u001b[1;34m\u001b[0m\n\u001b[1;32m----> 1\u001b[1;33m \u001b[0msin\u001b[0m\u001b[1;33m(\u001b[0m\u001b[1;33m)\u001b[0m\u001b[1;33m\u001b[0m\u001b[1;33m\u001b[0m\u001b[0m\n\u001b[0m",
      "\u001b[1;31mNameError\u001b[0m: name 'sin' is not defined"
     ]
    }
   ],
   "source": [
    "np.sin()"
   ]
  },
  {
   "cell_type": "code",
   "execution_count": 35,
   "id": "b769058b",
   "metadata": {},
   "outputs": [
    {
     "data": {
      "text/plain": [
       "'0b1010'"
      ]
     },
     "execution_count": 35,
     "metadata": {},
     "output_type": "execute_result"
    }
   ],
   "source": [
    "bin(10)"
   ]
  },
  {
   "cell_type": "code",
   "execution_count": 38,
   "id": "689df2bd",
   "metadata": {},
   "outputs": [
    {
     "ename": "TypeError",
     "evalue": "unsupported operand type(s) for /: 'str' and 'int'",
     "output_type": "error",
     "traceback": [
      "\u001b[1;31m---------------------------------------------------------------------------\u001b[0m",
      "\u001b[1;31mTypeError\u001b[0m                                 Traceback (most recent call last)",
      "\u001b[1;32m<ipython-input-38-ab390b9b2f03>\u001b[0m in \u001b[0;36m<module>\u001b[1;34m\u001b[0m\n\u001b[1;32m----> 1\u001b[1;33m \u001b[0mprint\u001b[0m\u001b[1;33m(\u001b[0m\u001b[1;34m'ab'\u001b[0m\u001b[1;33m/\u001b[0m\u001b[0mn\u001b[0m\u001b[1;33m,\u001b[0m\u001b[1;34m'cd'\u001b[0m\u001b[1;33m)\u001b[0m\u001b[1;33m\u001b[0m\u001b[1;33m\u001b[0m\u001b[0m\n\u001b[0m",
      "\u001b[1;31mTypeError\u001b[0m: unsupported operand type(s) for /: 'str' and 'int'"
     ]
    }
   ],
   "source": [
    "print('ab',/n,'cd')"
   ]
  },
  {
   "cell_type": "code",
   "execution_count": null,
   "id": "9af39097",
   "metadata": {},
   "outputs": [],
   "source": [
    "\n"
   ]
  }
 ],
 "metadata": {
  "kernelspec": {
   "display_name": "Python 3",
   "language": "python",
   "name": "python3"
  },
  "language_info": {
   "codemirror_mode": {
    "name": "ipython",
    "version": 3
   },
   "file_extension": ".py",
   "mimetype": "text/x-python",
   "name": "python",
   "nbconvert_exporter": "python",
   "pygments_lexer": "ipython3",
   "version": "3.8.8"
  }
 },
 "nbformat": 4,
 "nbformat_minor": 5
}
