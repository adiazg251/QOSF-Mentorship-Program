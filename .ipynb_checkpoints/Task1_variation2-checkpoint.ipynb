{
 "cells": [
  {
   "cell_type": "markdown",
   "id": "29031e55",
   "metadata": {},
   "source": [
    "# QOSF Mentorship Program - Task 1_variation2\n",
    "## Prepare input state as superposition of only the states defined by given vector\n",
    "\n",
    "As can be seen in the solution provided, the application of Grover's algorithm uses as input the equal superposition of all possible $2^{m}$ states. A further optimization to consider is to prepare the input state as the equal superposition of just the states defined by the input vector. In a real case, this should considerably improve the stability and reduce the noise in the system, since less states are considered. For the given input vector, this approach would consist of the state: 1/2(|0001> + |0101> + |0111> + |1010>) This approach is implemented below.\n"
   ]
  },
  {
   "cell_type": "code",
   "execution_count": 12,
   "id": "cf282565",
   "metadata": {},
   "outputs": [],
   "source": [
    "# Program Task 1_variation2\n",
    "# Created by: Andres Diaz\n",
    "# Date: 9/29/2021\n",
    "\n",
    "# Load packages and standard Qiskit libraries\n",
    "import numpy as np\n",
    "from qiskit import QuantumCircuit, Aer\n",
    "from qiskit.visualization import plot_bloch_multivector, plot_histogram\n",
    "from qiskit.utils import QuantumInstance\n",
    "from qiskit.algorithms import Grover, AmplificationProblem\n",
    "from qiskit.circuit.library import PhaseOracle\n",
    "\n",
    "from qiskit.visualization import circuit_drawer"
   ]
  },
  {
   "cell_type": "code",
   "execution_count": 13,
   "id": "3878ffd8",
   "metadata": {},
   "outputs": [
    {
     "name": "stdout",
     "output_type": "stream",
     "text": [
      "{'0001': '00', '0101': '01', '0111': '10', '1010': '11'}\n"
     ]
    }
   ],
   "source": [
    "# Problem input and creation of dictionary\n",
    "#     dictionary key   = input number in binary (four bits/qubits)\n",
    "#     dictionary value = indices in binary (two bits/qubits)\n",
    "input_list = [1,5,7,10]\n",
    "input_dict = {}\n",
    "for num in range(len(input_list)):\n",
    "    element_bin = format(input_list[num], '#06b')\n",
    "    integer_bin = format(num,'#04b')\n",
    "    input_dict[element_bin[-4:]] = integer_bin[-2:]\n",
    "print(input_dict)"
   ]
  },
  {
   "cell_type": "code",
   "execution_count": 14,
   "id": "4f60f828",
   "metadata": {},
   "outputs": [],
   "source": [
    "# These definitions are not necessary (or used), but will be useful in we desire to generalize the program\n",
    "# to accept random values of size 2^n with m bits in length\n",
    "n = 2   # n = number of addressing qbits\n",
    "m = 4   # m = number of bits in length for each memory element"
   ]
  },
  {
   "cell_type": "code",
   "execution_count": 15,
   "id": "b96b751e",
   "metadata": {},
   "outputs": [
    {
     "data": {
      "text/html": [
       "<pre style=\"word-wrap: normal;white-space: pre;background: #fff0;line-height: 1.1;font-family: &quot;Courier New&quot;,Courier,monospace\">     ┌──────────────────────────────────────────────────────┐\n",
       "q_0: ┤0                                                     ├\n",
       "     │                                                      │\n",
       "q_1: ┤1                                                     ├\n",
       "     │  Initialize(0,0.5,0,0,0,0.5,0,0.5,0,0,0.5,0,0,0,0,0) │\n",
       "q_2: ┤2                                                     ├\n",
       "     │                                                      │\n",
       "q_3: ┤3                                                     ├\n",
       "     └──────────────────────────────────────────────────────┘</pre>"
      ],
      "text/plain": [
       "     ┌──────────────────────────────────────────────────────┐\n",
       "q_0: ┤0                                                     ├\n",
       "     │                                                      │\n",
       "q_1: ┤1                                                     ├\n",
       "     │  Initialize(0,0.5,0,0,0,0.5,0,0.5,0,0,0.5,0,0,0,0,0) │\n",
       "q_2: ┤2                                                     ├\n",
       "     │                                                      │\n",
       "q_3: ┤3                                                     ├\n",
       "     └──────────────────────────────────────────────────────┘"
      ]
     },
     "execution_count": 15,
     "metadata": {},
     "output_type": "execute_result"
    }
   ],
   "source": [
    "# Prepare input_state = 1/2(|0001> + |0101> + |0111> + |1010>). Resulting circuit will be input to class AmplificationProblem\n",
    "# I did this manually but it can be automated\n",
    "input_amplitudes = [0, 1/2, 0, 0, 0, 1/2, 0, 1/2, 0, 0, 1/2, 0, 0, 0, 0, 0]\n",
    "State_preparation = QuantumCircuit(4)\n",
    "State_preparation.initialize(input_amplitudes, [0,1,2,3])\n",
    "State_preparation.draw()"
   ]
  },
  {
   "cell_type": "code",
   "execution_count": 16,
   "id": "457f7249",
   "metadata": {},
   "outputs": [
    {
     "data": {
      "text/html": [
       "<pre style=\"word-wrap: normal;white-space: pre;background: #fff0;line-height: 1.1;font-family: &quot;Courier New&quot;,Courier,monospace\">                 \n",
       "q_0: ─■──■─────■─\n",
       "      │  │     │ \n",
       "q_1: ─■──┼──■──■─\n",
       "      │  │  │  │ \n",
       "q_2: ─┼──■──o──o─\n",
       "      │  │  │    \n",
       "q_3: ─o──o──■────\n",
       "                 </pre>"
      ],
      "text/plain": [
       "                 \n",
       "q_0: ─■──■─────■─\n",
       "      │  │     │ \n",
       "q_1: ─■──┼──■──■─\n",
       "      │  │  │  │ \n",
       "q_2: ─┼──■──o──o─\n",
       "      │  │  │    \n",
       "q_3: ─o──o──■────\n",
       "                 "
      ]
     },
     "execution_count": 16,
     "metadata": {},
     "output_type": "execute_result"
    }
   ],
   "source": [
    "# Configure backend\n",
    "shots = 1024;\n",
    "backend = Aer.get_backend('aer_simulator')\n",
    "quantum_instance = QuantumInstance(backend, shots=shots)\n",
    "\n",
    "# Condition of two adjacents bits having different value is achieved \n",
    "# by AND operation between XOR of adjacent bits in binary representation \n",
    "expression = '(w ^ x) & (x ^ y) & (y ^ z)'\n",
    "\n",
    "# Create new oracle\n",
    "oracle = PhaseOracle(expression)\n",
    "problem = AmplificationProblem(oracle) #,state_preparation = State_preparation) # objective_qubits = [1,5,7,10]) #\n",
    "oracle.draw()\n",
    "\n",
    "#Another option is to specify in the AmplificationProblem class the indices of the list of qubits that should be measured.\n",
    "#This is done by setting the objective_qubits property."
   ]
  },
  {
   "cell_type": "code",
   "execution_count": 38,
   "id": "3a4a205e",
   "metadata": {},
   "outputs": [
    {
     "data": {
      "image/png": "[encoded data removed]",
      "text/plain": [
       "<Figure size 504x360 with 1 Axes>"
      ]
     },
     "execution_count": 38,
     "metadata": {},
     "output_type": "execute_result"
    }
   ],
   "source": [
    "#Solve using Grover's algorithm\n",
    "grover = Grover(iterations = 2, quantum_instance=quantum_instance)\n",
    "result = grover.amplify(problem)\n",
    "plot_histogram(result.circuit_results)"
   ]
  },
  {
   "cell_type": "code",
   "execution_count": 39,
   "id": "07f51028",
   "metadata": {},
   "outputs": [
    {
     "name": "stdout",
     "output_type": "stream",
     "text": [
      "{'1001': 4, '0001': 5, '1010': 473, '0101': 486, '1011': 7, '0011': 3, '1000': 8, '1111': 6, '0000': 5, '1101': 6, '1100': 3, '0110': 4, '0010': 5, '0100': 5, '0111': 2, '1110': 2}\n"
     ]
    }
   ],
   "source": [
    "print(result.circuit_results[0])"
   ]
  },
  {
   "cell_type": "code",
   "execution_count": 40,
   "id": "131a8fa0",
   "metadata": {},
   "outputs": [
    {
     "name": "stdout",
     "output_type": "stream",
     "text": [
      "0001 00 0.0048828125\n",
      "0101 01 0.474609375\n",
      "0111 10 0.001953125\n",
      "1010 11 0.4619140625\n"
     ]
    }
   ],
   "source": [
    "# Determine probabilities corresponding to input elements\n",
    "# and assign to output dictionary with keys = indices in binary\n",
    "output_dict = {}\n",
    "for input_key in input_dict.keys():\n",
    "    print(input_key,input_dict[input_key],result.circuit_results[0][input_key]/shots)\n",
    "    output_dict[input_dict[input_key]] = result.circuit_results[0][input_key]/shots"
   ]
  },
  {
   "cell_type": "code",
   "execution_count": 41,
   "id": "47f00240",
   "metadata": {},
   "outputs": [
    {
     "name": "stdout",
     "output_type": "stream",
     "text": [
      "{'00': 0.0048828125, '01': 0.474609375, '10': 0.001953125, '11': 0.4619140625}\n"
     ]
    }
   ],
   "source": [
    "print(output_dict)"
   ]
  },
  {
   "cell_type": "code",
   "execution_count": 42,
   "id": "41491f3e",
   "metadata": {},
   "outputs": [
    {
     "name": "stdout",
     "output_type": "stream",
     "text": [
      "['01', '11']\n"
     ]
    }
   ],
   "source": [
    "# It is given that the input contains at least two numbers with alternating bitstrings\n",
    "# Hence, we look for the two highest probabilities. Only states are stored in output_list\n",
    "max1 = max(output_dict, key = output_dict.get)\n",
    "del output_dict[max1]\n",
    "max2 = max(output_dict, key = output_dict.get)\n",
    "output_list = [max1,max2]\n",
    "print(output_list)"
   ]
  },
  {
   "cell_type": "code",
   "execution_count": 43,
   "id": "2f0f0bf9",
   "metadata": {},
   "outputs": [
    {
     "name": "stdout",
     "output_type": "stream",
     "text": [
      "00 0\n",
      "01 0.7071067811865475\n",
      "10 0\n",
      "11 0.7071067811865475\n"
     ]
    },
    {
     "data": {
      "text/html": [
       "<pre style=\"word-wrap: normal;white-space: pre;background: #fff0;line-height: 1.1;font-family: &quot;Courier New&quot;,Courier,monospace\">     ┌──────────────────────────────────┐\n",
       "q_0: ┤0                                 ├\n",
       "     │  Initialize(0,0.70711,0,0.70711) │\n",
       "q_1: ┤1                                 ├\n",
       "     └──────────────────────────────────┘</pre>"
      ],
      "text/plain": [
       "     ┌──────────────────────────────────┐\n",
       "q_0: ┤0                                 ├\n",
       "     │  Initialize(0,0.70711,0,0.70711) │\n",
       "q_1: ┤1                                 ├\n",
       "     └──────────────────────────────────┘"
      ]
     },
     "execution_count": 43,
     "metadata": {},
     "output_type": "execute_result"
    }
   ],
   "source": [
    "# The output will be a quantum circuit which is the superposition of these two states\n",
    "# Prepare list of complex amplitudes of [00,01,10,11] states\n",
    "states = ['00','01','10','11']\n",
    "amplitudes = [0,0,0,0]\n",
    "for num in range(len(states)):\n",
    "    if states[num] in output_list:\n",
    "        amplitudes[num] = 1/np.sqrt(2)\n",
    "    else:\n",
    "        amplitudes[num] = 0    \n",
    "    print(states[num], amplitudes[num])\n",
    "    \n",
    "# Declare and initialize output quantum circuit qc_out with the desired superposition of states\n",
    "qc_out = QuantumCircuit(2)\n",
    "qc_out.initialize(amplitudes, [0,1])\n",
    "qc_out.draw()"
   ]
  }
 ],
 "metadata": {
  "kernelspec": {
   "display_name": "Python 3",
   "language": "python",
   "name": "python3"
  },
  "language_info": {
   "codemirror_mode": {
    "name": "ipython",
    "version": 3
   },
   "file_extension": ".py",
   "mimetype": "text/x-python",
   "name": "python",
   "nbconvert_exporter": "python",
   "pygments_lexer": "ipython3",
   "version": "3.8.8"
  }
 },
 "nbformat": 4,
 "nbformat_minor": 5
}
