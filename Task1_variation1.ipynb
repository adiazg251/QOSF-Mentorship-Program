{
 "cells": [
  {
   "cell_type": "markdown",
   "id": "29031e55",
   "metadata": {},
   "source": [
    "# QOSF Mentorship Program - Task 1_variation1\n",
    "\n",
    "Below I show the adaptation of the program so that it can accept values of size n=2 (same as before) with 5 bits in length (instead of 4). The values to consider are (the list should include 10 and 21 as elements):\n",
    "\n",
    "[10,3,21,28]\n",
    "\n",
    "The program can be easily adapted to accept random values of size  2𝑛  with m bits in length, for fixed values of n and m (with a bit more time).\n",
    "\n",
    "It returns a quantum state which is a superposition of indices of the target solution, obtaining in the output the indices of the inputs where two adjacent bits will always have different values. In this case the output should be: \n",
    "\n",
    "1/sqrt(2) * (|00> + |10>) , as the correct indices are 0 and 2.\n"
   ]
  },
  {
   "cell_type": "code",
   "execution_count": 1,
   "id": "cf282565",
   "metadata": {},
   "outputs": [],
   "source": [
    "# Program Task 1_variation1\n",
    "# Created by: Andres Diaz\n",
    "# Date: 9/29/2021\n",
    "\n",
    "# Load packages and standard Qiskit libraries\n",
    "import numpy as np\n",
    "from qiskit import QuantumCircuit, Aer\n",
    "from qiskit.visualization import plot_bloch_multivector, plot_histogram\n",
    "from qiskit.utils import QuantumInstance\n",
    "from qiskit.algorithms import Grover, AmplificationProblem\n",
    "from qiskit.circuit.library import PhaseOracle\n",
    "\n",
    "from qiskit.visualization import circuit_drawer"
   ]
  },
  {
   "cell_type": "code",
   "execution_count": 15,
   "id": "4be60117",
   "metadata": {},
   "outputs": [
    {
     "name": "stdout",
     "output_type": "stream",
     "text": [
      "{'01010': '00', '00011': '01', '10101': '10', '11100': '11'}\n"
     ]
    }
   ],
   "source": [
    "# Problem input and creation of dictionary\n",
    "#     dictionary key   = input number in binary (four bits/qubits)\n",
    "#     dictionary value = indices in binary (two bits/qubits)\n",
    "input_list = [10,3,21,28]\n",
    "input_dict = {}\n",
    "for num in range(len(input_list)):\n",
    "    element_bin = format(input_list[num], '#07b')\n",
    "    integer_bin = format(num,'#04b')\n",
    "    input_dict[element_bin[-5:]] = integer_bin[-2:]\n",
    "print(input_dict)"
   ]
  },
  {
   "cell_type": "code",
   "execution_count": 3,
   "id": "829cd90b",
   "metadata": {},
   "outputs": [],
   "source": [
    "# These definitions are not necessary (or used), but will be useful in we desire to generalize the program\n",
    "# to accept random values of size 2^n with m bits in length\n",
    "n = 2   # n = number of addressing qbits\n",
    "m = 4   # m = number of bits in length for each memory element"
   ]
  },
  {
   "cell_type": "code",
   "execution_count": 16,
   "id": "457f7249",
   "metadata": {},
   "outputs": [
    {
     "data": {
      "text/html": [
       "<pre style=\"word-wrap: normal;white-space: pre;background: #fff0;line-height: 1.1;font-family: &quot;Courier New&quot;,Courier,monospace\">                    \n",
       "q_0: ─■──■─────■──■─\n",
       "      │  │     │  │ \n",
       "q_1: ─■──┼──■──■──■─\n",
       "      │  │  │  │  │ \n",
       "q_2: ─┼──■──o──o──o─\n",
       "      │  │  │  │  │ \n",
       "q_3: ─o──o──■──■──┼─\n",
       "      │  │  │     │ \n",
       "q_4: ─■──■──o─────■─\n",
       "                    </pre>"
      ],
      "text/plain": [
       "                    \n",
       "q_0: ─■──■─────■──■─\n",
       "      │  │     │  │ \n",
       "q_1: ─■──┼──■──■──■─\n",
       "      │  │  │  │  │ \n",
       "q_2: ─┼──■──o──o──o─\n",
       "      │  │  │  │  │ \n",
       "q_3: ─o──o──■──■──┼─\n",
       "      │  │  │     │ \n",
       "q_4: ─■──■──o─────■─\n",
       "                    "
      ]
     },
     "execution_count": 16,
     "metadata": {},
     "output_type": "execute_result"
    }
   ],
   "source": [
    "# Configure backend\n",
    "shots = 1024;\n",
    "backend = Aer.get_backend('aer_simulator')\n",
    "quantum_instance = QuantumInstance(backend, shots=shots)\n",
    "\n",
    "# Condition of two adjacents bits having different value is achieved \n",
    "# by AND operation between XOR of adjacent bits in binary representation \n",
    "expression = '(v ^ w) & (w ^ x) & (x ^ y) & (y ^ z)'\n",
    "\n",
    "# Create new oracle\n",
    "oracle = PhaseOracle(expression)\n",
    "problem = AmplificationProblem(oracle)\n",
    "oracle.draw()"
   ]
  },
  {
   "cell_type": "code",
   "execution_count": 17,
   "id": "48cb7ba8",
   "metadata": {},
   "outputs": [
    {
     "data": {
      "image/png": "[encoded data removed]",
      "text/plain": [
       "<Figure size 504x360 with 1 Axes>"
      ]
     },
     "execution_count": 17,
     "metadata": {},
     "output_type": "execute_result"
    }
   ],
   "source": [
    "#Solve using Grover's algorithm\n",
    "grover = Grover(quantum_instance=quantum_instance)\n",
    "result = grover.amplify(problem)\n",
    "plot_histogram(result.circuit_results)"
   ]
  },
  {
   "cell_type": "code",
   "execution_count": 18,
   "id": "07f51028",
   "metadata": {},
   "outputs": [
    {
     "name": "stdout",
     "output_type": "stream",
     "text": [
      "{'00100': 26, '10101': 231, '01100': 30, '00001': 29, '01001': 22, '01010': 240, '10011': 22, '10110': 17, '00110': 29, '11111': 17, '10000': 18, '10100': 20, '01000': 23, '00111': 14, '10010': 19, '11110': 14, '10111': 18, '11010': 20, '01111': 13, '11000': 19, '01011': 14, '11001': 11, '11011': 16, '11101': 17, '00010': 21, '01101': 20, '00101': 15, '00000': 19, '10001': 11, '00011': 19, '01110': 10, '11100': 10}\n"
     ]
    }
   ],
   "source": [
    "print(result.circuit_results[0])"
   ]
  },
  {
   "cell_type": "code",
   "execution_count": 19,
   "id": "6463150f",
   "metadata": {},
   "outputs": [
    {
     "name": "stdout",
     "output_type": "stream",
     "text": [
      "01010 00 0.234375\n",
      "00011 01 0.0185546875\n",
      "10101 10 0.2255859375\n",
      "11100 11 0.009765625\n"
     ]
    }
   ],
   "source": [
    "# Determine probabilities corresponding to input elements\n",
    "# and assign to output dictionary with keys = indices in binary\n",
    "output_dict = {}\n",
    "for input_key in input_dict.keys():\n",
    "    print(input_key,input_dict[input_key],result.circuit_results[0][input_key]/shots)\n",
    "    output_dict[input_dict[input_key]] = result.circuit_results[0][input_key]/shots"
   ]
  },
  {
   "cell_type": "code",
   "execution_count": 20,
   "id": "2946049b",
   "metadata": {},
   "outputs": [
    {
     "name": "stdout",
     "output_type": "stream",
     "text": [
      "{'00': 0.234375, '01': 0.0185546875, '10': 0.2255859375, '11': 0.009765625}\n"
     ]
    }
   ],
   "source": [
    "print(output_dict)"
   ]
  },
  {
   "cell_type": "code",
   "execution_count": 21,
   "id": "2cf168f0",
   "metadata": {},
   "outputs": [
    {
     "name": "stdout",
     "output_type": "stream",
     "text": [
      "['00', '10']\n"
     ]
    }
   ],
   "source": [
    "# It is given that the input contains at least two numbers with alternating bitstrings\n",
    "# Hence, we look for the two highest probabilities. Only states are stored in output_list\n",
    "max1 = max(output_dict, key = output_dict.get)\n",
    "del output_dict[max1]\n",
    "max2 = max(output_dict, key = output_dict.get)\n",
    "output_list = [max1,max2]\n",
    "print(output_list)"
   ]
  },
  {
   "cell_type": "code",
   "execution_count": 22,
   "id": "435fd6fa",
   "metadata": {},
   "outputs": [
    {
     "name": "stdout",
     "output_type": "stream",
     "text": [
      "00 0.7071067811865475\n",
      "01 0\n",
      "10 0.7071067811865475\n",
      "11 0\n"
     ]
    },
    {
     "data": {
      "text/html": [
       "<pre style=\"word-wrap: normal;white-space: pre;background: #fff0;line-height: 1.1;font-family: &quot;Courier New&quot;,Courier,monospace\">     ┌──────────────────────────────────┐\n",
       "q_0: ┤0                                 ├\n",
       "     │  Initialize(0.70711,0,0.70711,0) │\n",
       "q_1: ┤1                                 ├\n",
       "     └──────────────────────────────────┘</pre>"
      ],
      "text/plain": [
       "     ┌──────────────────────────────────┐\n",
       "q_0: ┤0                                 ├\n",
       "     │  Initialize(0.70711,0,0.70711,0) │\n",
       "q_1: ┤1                                 ├\n",
       "     └──────────────────────────────────┘"
      ]
     },
     "execution_count": 22,
     "metadata": {},
     "output_type": "execute_result"
    }
   ],
   "source": [
    "# The output will be a quantum circuit which is the superposition of these two states\n",
    "# Prepare list of complex amplitudes of [00,01,10,11] states\n",
    "states = ['00','01','10','11']\n",
    "amplitudes = [0,0,0,0]\n",
    "for num in range(len(states)):\n",
    "    if states[num] in output_list:\n",
    "        amplitudes[num] = 1/np.sqrt(2)\n",
    "    else:\n",
    "        amplitudes[num] = 0    \n",
    "    print(states[num], amplitudes[num])\n",
    "    \n",
    "# Declare and initialize output quantum circuit qc_out with the desired superposition of states\n",
    "qc_out = QuantumCircuit(2)\n",
    "qc_out.initialize(amplitudes, [0,1])\n",
    "qc_out.draw()"
   ]
  }
 ],
 "metadata": {
  "kernelspec": {
   "display_name": "Python 3",
   "language": "python",
   "name": "python3"
  },
  "language_info": {
   "codemirror_mode": {
    "name": "ipython",
    "version": 3
   },
   "file_extension": ".py",
   "mimetype": "text/x-python",
   "name": "python",
   "nbconvert_exporter": "python",
   "pygments_lexer": "ipython3",
   "version": "3.8.8"
  }
 },
 "nbformat": 4,
 "nbformat_minor": 5
}
